{
 "cells": [
  {
   "cell_type": "code",
   "execution_count": null,
   "id": "fc3d8dad-006e-439b-bf0f-c23cc7ea0490",
   "metadata": {},
   "outputs": [],
   "source": []
  }
 ],
 "metadata": {
  "kernelspec": {
   "display_name": "",
   "name": ""
  },
  "language_info": {
   "name": ""
  }
 },
 "nbformat": 4,
 "nbformat_minor": 5
}
